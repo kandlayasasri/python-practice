{
 "cells": [
  {
   "cell_type": "code",
   "execution_count": 3,
   "id": "195301c5-a1a9-43b5-9599-529316e21790",
   "metadata": {},
   "outputs": [
    {
     "name": "stdin",
     "output_type": "stream",
     "text": [
      " 515\n"
     ]
    },
    {
     "name": "stdout",
     "output_type": "stream",
     "text": [
      "51\n"
     ]
    }
   ],
   "source": [
    "n=int(input())\n",
    "new_number=n//10\n",
    "print(new_number)"
   ]
  },
  {
   "cell_type": "code",
   "execution_count": 6,
   "id": "2e12704e-a5fb-4ebb-9ce6-b9847c781ebc",
   "metadata": {},
   "outputs": [
    {
     "name": "stdin",
     "output_type": "stream",
     "text": [
      " 515\n"
     ]
    },
    {
     "name": "stdout",
     "output_type": "stream",
     "text": [
      "3\n"
     ]
    }
   ],
   "source": [
    "n=int(input())\n",
    "count=0\n",
    "while n>0:\n",
    "    n//=10\n",
    "    count+=1\n",
    "print(count)\n"
   ]
  },
  {
   "cell_type": "code",
   "execution_count": null,
   "id": "3c022bf9-7c92-447d-b1ca-412abbb6429f",
   "metadata": {},
   "outputs": [],
   "source": []
  }
 ],
 "metadata": {
  "kernelspec": {
   "display_name": "Python 3 (ipykernel)",
   "language": "python",
   "name": "python3"
  },
  "language_info": {
   "codemirror_mode": {
    "name": "ipython",
    "version": 3
   },
   "file_extension": ".py",
   "mimetype": "text/x-python",
   "name": "python",
   "nbconvert_exporter": "python",
   "pygments_lexer": "ipython3",
   "version": "3.12.4"
  }
 },
 "nbformat": 4,
 "nbformat_minor": 5
}
